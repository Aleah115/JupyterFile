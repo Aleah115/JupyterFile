{
 "cells": [
  {
   "cell_type": "code",
   "execution_count": 35,
   "id": "3c51b510-322b-4d32-b08d-455b86c20633",
   "metadata": {},
   "outputs": [
    {
     "name": "stdout",
     "output_type": "stream",
     "text": [
      "存在名为 CNTYNAMB 的列\n",
      "存在名为 STCNTYBR 的列\n",
      "存在名为 DEPSUMBR 的列\n"
     ]
    }
   ],
   "source": [
    "import pandas as pd\n",
    "import os\n",
    "\n",
    "path = \"C:/Users/84678/Desktop/RA/高老师/Chanik Jo/ALL\"\n",
    "df = pd.read_csv(path+'/ALL_2022.csv',encoding='ISO-8859-1')\n",
    "\n",
    "if 'CNTYNAMB' in df.columns:\n",
    "    print('存在名为 CNTYNAMB 的列')\n",
    "else:\n",
    "    print('不存在名为 CNTYNAMB 的列')\n",
    "    \n",
    "if 'STCNTYBR' in df.columns:\n",
    "    print('存在名为 STCNTYBR 的列')\n",
    "else:\n",
    "    print('不存在名为 STCNTYBR 的列')    \n",
    "    \n",
    "if 'DEPSUMBR' in df.columns:\n",
    "    print('存在名为 DEPSUMBR 的列')\n",
    "else:\n",
    "    print('不存在名为 DEPSUMBR 的列')"
   ]
  },
  {
   "cell_type": "code",
   "execution_count": null,
   "id": "3945e472-f5e1-43cb-891c-1f65461e4832",
   "metadata": {},
   "outputs": [],
   "source": [
    "# os.listdir(\".\")返回目录中的文件名列表\n",
    "# 用for循环遍历文件名列表中的每个文件名，赋值给变量filename\n",
    "for filename in os.listdir(path):\n",
    "\n",
    "    data = pd.read_excel(path+'/'+filename)\n",
    "\n",
    "    data_all.to_excel(\"C:/Users/84678/Desktop/RA/苏阳老师/土地/土地信息总表.xlsx\",index=False)"
   ]
  }
 ],
 "metadata": {
  "kernelspec": {
   "display_name": "Python 3 (ipykernel)",
   "language": "python",
   "name": "python3"
  },
  "language_info": {
   "codemirror_mode": {
    "name": "ipython",
    "version": 3
   },
   "file_extension": ".py",
   "mimetype": "text/x-python",
   "name": "python",
   "nbconvert_exporter": "python",
   "pygments_lexer": "ipython3",
   "version": "3.9.12"
  }
 },
 "nbformat": 4,
 "nbformat_minor": 5
}
