{
 "cells": [
  {
   "cell_type": "code",
   "execution_count": 1,
   "id": "b8e44439-0040-4f0d-ae3d-20500a5edd2e",
   "metadata": {},
   "outputs": [],
   "source": [
    "import pandas as pd"
   ]
  },
  {
   "cell_type": "code",
   "execution_count": 2,
   "id": "98a71b7e-108e-4dd5-860e-71caa4bc8bf5",
   "metadata": {},
   "outputs": [],
   "source": [
    "firm = pd.read_stata('C:/Users/84678/Desktop/RA/苏阳老师/firmlist_all.dta')"
   ]
  },
  {
   "cell_type": "code",
   "execution_count": 3,
   "id": "2f71b9ec-f376-486e-8a87-14d640ba7133",
   "metadata": {},
   "outputs": [],
   "source": [
    "firm_name = firm[['证券代码','证券简称','公司中文名称']]"
   ]
  },
  {
   "cell_type": "code",
   "execution_count": 4,
   "id": "5690f1b4-a855-4121-ba9b-e7172034bf8c",
   "metadata": {},
   "outputs": [],
   "source": [
    "firm_name_only = firm_name.drop_duplicates()"
   ]
  },
  {
   "cell_type": "code",
   "execution_count": 5,
   "id": "dc3484d6-2f22-4cba-8df7-411bcfcd0675",
   "metadata": {},
   "outputs": [],
   "source": [
    "firm_name_only = firm_name_only.reset_index()\n",
    "firm_name_only = firm_name_only.drop(labels = 'index' , axis = 1)"
   ]
  },
  {
   "cell_type": "code",
   "execution_count": 6,
   "id": "e5a111ae-a7be-41f2-b0b9-67d74aa8ec9b",
   "metadata": {},
   "outputs": [
    {
     "data": {
      "text/html": [
       "<div>\n",
       "<style scoped>\n",
       "    .dataframe tbody tr th:only-of-type {\n",
       "        vertical-align: middle;\n",
       "    }\n",
       "\n",
       "    .dataframe tbody tr th {\n",
       "        vertical-align: top;\n",
       "    }\n",
       "\n",
       "    .dataframe thead th {\n",
       "        text-align: right;\n",
       "    }\n",
       "</style>\n",
       "<table border=\"1\" class=\"dataframe\">\n",
       "  <thead>\n",
       "    <tr style=\"text-align: right;\">\n",
       "      <th></th>\n",
       "      <th>证券代码</th>\n",
       "      <th>证券简称</th>\n",
       "      <th>公司中文名称</th>\n",
       "    </tr>\n",
       "  </thead>\n",
       "  <tbody>\n",
       "    <tr>\n",
       "      <th>0</th>\n",
       "      <td>0410.HK</td>\n",
       "      <td>SOHO中国</td>\n",
       "      <td>SOHO中国有限公司</td>\n",
       "    </tr>\n",
       "    <tr>\n",
       "      <th>1</th>\n",
       "      <td>000534.SZ</td>\n",
       "      <td>万泽股份</td>\n",
       "      <td>万泽实业股份有限公司</td>\n",
       "    </tr>\n",
       "    <tr>\n",
       "      <th>2</th>\n",
       "      <td>000002.SZ</td>\n",
       "      <td>万科A</td>\n",
       "      <td>万科企业股份有限公司</td>\n",
       "    </tr>\n",
       "    <tr>\n",
       "      <th>3</th>\n",
       "      <td>6611.HK</td>\n",
       "      <td>三巽集团</td>\n",
       "      <td>三巽控股集团有限公司</td>\n",
       "    </tr>\n",
       "    <tr>\n",
       "      <th>4</th>\n",
       "      <td>000863.SZ</td>\n",
       "      <td>三湘印象</td>\n",
       "      <td>三湘印象股份有限公司</td>\n",
       "    </tr>\n",
       "    <tr>\n",
       "      <th>...</th>\n",
       "      <td>...</td>\n",
       "      <td>...</td>\n",
       "      <td>...</td>\n",
       "    </tr>\n",
       "    <tr>\n",
       "      <th>443</th>\n",
       "      <td>600223.SH</td>\n",
       "      <td>福瑞达</td>\n",
       "      <td>鲁商福瑞达医药股份有限公司</td>\n",
       "    </tr>\n",
       "    <tr>\n",
       "      <th>444</th>\n",
       "      <td>119484.SZ</td>\n",
       "      <td>贵和优A</td>\n",
       "      <td>鲁能集团有限公司</td>\n",
       "    </tr>\n",
       "    <tr>\n",
       "      <th>445</th>\n",
       "      <td>600510.SH</td>\n",
       "      <td>黑牡丹</td>\n",
       "      <td>黑牡丹(集团)股份有限公司</td>\n",
       "    </tr>\n",
       "    <tr>\n",
       "      <th>446</th>\n",
       "      <td>3380.HK</td>\n",
       "      <td>龙光集团</td>\n",
       "      <td>龙光集团有限公司</td>\n",
       "    </tr>\n",
       "    <tr>\n",
       "      <th>447</th>\n",
       "      <td>0960.HK</td>\n",
       "      <td>龙湖集团</td>\n",
       "      <td>龙湖集团控股有限公司</td>\n",
       "    </tr>\n",
       "  </tbody>\n",
       "</table>\n",
       "<p>448 rows × 3 columns</p>\n",
       "</div>"
      ],
      "text/plain": [
       "          证券代码    证券简称         公司中文名称\n",
       "0      0410.HK  SOHO中国     SOHO中国有限公司\n",
       "1    000534.SZ    万泽股份     万泽实业股份有限公司\n",
       "2    000002.SZ     万科A     万科企业股份有限公司\n",
       "3      6611.HK    三巽集团     三巽控股集团有限公司\n",
       "4    000863.SZ    三湘印象     三湘印象股份有限公司\n",
       "..         ...     ...            ...\n",
       "443  600223.SH     福瑞达  鲁商福瑞达医药股份有限公司\n",
       "444  119484.SZ    贵和优A       鲁能集团有限公司\n",
       "445  600510.SH     黑牡丹  黑牡丹(集团)股份有限公司\n",
       "446    3380.HK    龙光集团       龙光集团有限公司\n",
       "447    0960.HK    龙湖集团     龙湖集团控股有限公司\n",
       "\n",
       "[448 rows x 3 columns]"
      ]
     },
     "execution_count": 6,
     "metadata": {},
     "output_type": "execute_result"
    }
   ],
   "source": [
    "firm_name_only"
   ]
  },
  {
   "cell_type": "code",
   "execution_count": 56,
   "id": "5f0b5ee9-309a-4a82-9095-577ff386245b",
   "metadata": {},
   "outputs": [],
   "source": [
    "firm_name_only.to_excel('C:/Users/84678/Desktop/RA/苏阳老师/firmfile1.xlsx',index = False)"
   ]
  },
  {
   "cell_type": "code",
   "execution_count": 7,
   "id": "b7a69a07-fc9f-42c3-a3b0-9bbeec951546",
   "metadata": {},
   "outputs": [],
   "source": [
    "df_firm = pd.read_excel('C:/Users/84678/Desktop/RA/苏阳老师/firmfile.xlsx',sheet_name = \"最后整理数据\",index_col = 0)"
   ]
  },
  {
   "cell_type": "code",
   "execution_count": 8,
   "id": "fd8a4517-86d9-4e37-99e1-116ba0a4a52d",
   "metadata": {},
   "outputs": [],
   "source": [
    "firm_list = df_firm.loc[lambda df_firm : (df_firm['控股公司是否有房地产业务']=='有') & (df_firm['在全部公司中的超过30%控股公司'].notnull())]"
   ]
  },
  {
   "cell_type": "code",
   "execution_count": 9,
   "id": "7dec326b-064b-4ff0-b431-c69ec5b96678",
   "metadata": {},
   "outputs": [
    {
     "data": {
      "text/html": [
       "<div>\n",
       "<style scoped>\n",
       "    .dataframe tbody tr th:only-of-type {\n",
       "        vertical-align: middle;\n",
       "    }\n",
       "\n",
       "    .dataframe tbody tr th {\n",
       "        vertical-align: top;\n",
       "    }\n",
       "\n",
       "    .dataframe thead th {\n",
       "        text-align: right;\n",
       "    }\n",
       "</style>\n",
       "<table border=\"1\" class=\"dataframe\">\n",
       "  <thead>\n",
       "    <tr style=\"text-align: right;\">\n",
       "      <th></th>\n",
       "      <th>公司中文名称</th>\n",
       "      <th>在全部公司中的超过30%控股公司</th>\n",
       "      <th>控股公司是否有房地产业务</th>\n",
       "      <th>控股公司代码</th>\n",
       "      <th>控股公司简称</th>\n",
       "    </tr>\n",
       "    <tr>\n",
       "      <th>证券代码</th>\n",
       "      <th></th>\n",
       "      <th></th>\n",
       "      <th></th>\n",
       "      <th></th>\n",
       "      <th></th>\n",
       "    </tr>\n",
       "  </thead>\n",
       "  <tbody>\n",
       "    <tr>\n",
       "      <th>163347.SH</th>\n",
       "      <td>上海世茂建设有限公司</td>\n",
       "      <td>世茂集团控股有限公司</td>\n",
       "      <td>有</td>\n",
       "      <td>0813.HK</td>\n",
       "      <td>世茂集团</td>\n",
       "    </tr>\n",
       "    <tr>\n",
       "      <th>125033.SH</th>\n",
       "      <td>上海金丰建设发展有限公司</td>\n",
       "      <td>上海地产住房保障有限公司</td>\n",
       "      <td>有</td>\n",
       "      <td>193398.SH</td>\n",
       "      <td>PR产3A</td>\n",
       "    </tr>\n",
       "    <tr>\n",
       "      <th>1280313.IB</th>\n",
       "      <td>农工商房地产(集团)有限公司</td>\n",
       "      <td>光明房地产集团股份有限公司</td>\n",
       "      <td>有</td>\n",
       "      <td>600708.SH</td>\n",
       "      <td>光明地产</td>\n",
       "    </tr>\n",
       "    <tr>\n",
       "      <th>122000002.IB</th>\n",
       "      <td>南京建设发展集团有限公司</td>\n",
       "      <td>南京安居建设集团有限责任公司</td>\n",
       "      <td>有</td>\n",
       "      <td>115823.SH</td>\n",
       "      <td>23宁安02</td>\n",
       "    </tr>\n",
       "    <tr>\n",
       "      <th>000537.SZ</th>\n",
       "      <td>天津中绿电投资股份有限公司</td>\n",
       "      <td>鲁能集团有限公司</td>\n",
       "      <td>有</td>\n",
       "      <td>119484.SZ</td>\n",
       "      <td>贵和优A</td>\n",
       "    </tr>\n",
       "    <tr>\n",
       "      <th>122474.SH</th>\n",
       "      <td>珠海格力房产有限公司</td>\n",
       "      <td>格力地产股份有限公司</td>\n",
       "      <td>有</td>\n",
       "      <td>600185.SH</td>\n",
       "      <td>格力地产</td>\n",
       "    </tr>\n",
       "    <tr>\n",
       "      <th>112346.SZ</th>\n",
       "      <td>福星惠誉控股有限公司</td>\n",
       "      <td>湖北福星科技股份有限公司</td>\n",
       "      <td>有</td>\n",
       "      <td>000926.SZ</td>\n",
       "      <td>福星股份</td>\n",
       "    </tr>\n",
       "    <tr>\n",
       "      <th>119484.SZ</th>\n",
       "      <td>鲁能集团有限公司</td>\n",
       "      <td>中国绿发投资集团有限公司</td>\n",
       "      <td>有</td>\n",
       "      <td>115360.SH</td>\n",
       "      <td>23绿发02</td>\n",
       "    </tr>\n",
       "    <tr>\n",
       "      <th>600895.SH</th>\n",
       "      <td>上海张江高科技园区开发股份有限公司</td>\n",
       "      <td>上海张江(集团)有限公司</td>\n",
       "      <td>有</td>\n",
       "      <td>1382051.IB</td>\n",
       "      <td>13张江MTN1</td>\n",
       "    </tr>\n",
       "    <tr>\n",
       "      <th>600663.SH</th>\n",
       "      <td>上海陆家嘴金融贸易区开发股份有限公司</td>\n",
       "      <td>上海陆家嘴(集团)有限公司</td>\n",
       "      <td>有</td>\n",
       "      <td>199316.SH</td>\n",
       "      <td>陆集1优</td>\n",
       "    </tr>\n",
       "    <tr>\n",
       "      <th>000736.SZ</th>\n",
       "      <td>中交地产股份有限公司</td>\n",
       "      <td>中交房地产集团有限公司</td>\n",
       "      <td>有</td>\n",
       "      <td>185562.SH</td>\n",
       "      <td>22交房01</td>\n",
       "    </tr>\n",
       "    <tr>\n",
       "      <th>600048.SH</th>\n",
       "      <td>保利发展控股集团股份有限公司</td>\n",
       "      <td>保利南方集团有限公司</td>\n",
       "      <td>有</td>\n",
       "      <td>101654070.IB</td>\n",
       "      <td>16保利南方MTN001</td>\n",
       "    </tr>\n",
       "    <tr>\n",
       "      <th>600376.SH</th>\n",
       "      <td>北京首都开发股份有限公司</td>\n",
       "      <td>北京首都开发控股(集团)有限公司</td>\n",
       "      <td>有</td>\n",
       "      <td>081664010.IB</td>\n",
       "      <td>16首开ABN001J</td>\n",
       "    </tr>\n",
       "    <tr>\n",
       "      <th>102380377.IB</th>\n",
       "      <td>厦门国贸房地产有限公司</td>\n",
       "      <td>厦门国贸地产集团有限公司</td>\n",
       "      <td>有</td>\n",
       "      <td>115550.SH</td>\n",
       "      <td>23国地01</td>\n",
       "    </tr>\n",
       "    <tr>\n",
       "      <th>0207.HK</th>\n",
       "      <td>大悦城地产有限公司</td>\n",
       "      <td>大悦城控股集团股份有限公司</td>\n",
       "      <td>有</td>\n",
       "      <td>000031.SZ</td>\n",
       "      <td>大悦城</td>\n",
       "    </tr>\n",
       "    <tr>\n",
       "      <th>600665.SH</th>\n",
       "      <td>天地源股份有限公司</td>\n",
       "      <td>西安高新技术产业开发区房地产开发有限公司</td>\n",
       "      <td>有</td>\n",
       "      <td>114443.SH</td>\n",
       "      <td>22西地02</td>\n",
       "    </tr>\n",
       "    <tr>\n",
       "      <th>136346.SH</th>\n",
       "      <td>广州市天建房地产开发有限公司</td>\n",
       "      <td>广州合景控股集团有限公司</td>\n",
       "      <td>有</td>\n",
       "      <td>139822.SZ</td>\n",
       "      <td>合景19次</td>\n",
       "    </tr>\n",
       "    <tr>\n",
       "      <th>600684.SH</th>\n",
       "      <td>广州珠江发展集团股份有限公司</td>\n",
       "      <td>广州珠江实业集团有限公司</td>\n",
       "      <td>有</td>\n",
       "      <td>127830.SH</td>\n",
       "      <td>18珠江债</td>\n",
       "    </tr>\n",
       "  </tbody>\n",
       "</table>\n",
       "</div>"
      ],
      "text/plain": [
       "                          公司中文名称      在全部公司中的超过30%控股公司 控股公司是否有房地产业务  \\\n",
       "证券代码                                                                  \n",
       "163347.SH             上海世茂建设有限公司            世茂集团控股有限公司            有   \n",
       "125033.SH           上海金丰建设发展有限公司          上海地产住房保障有限公司            有   \n",
       "1280313.IB        农工商房地产(集团)有限公司         光明房地产集团股份有限公司            有   \n",
       "122000002.IB        南京建设发展集团有限公司        南京安居建设集团有限责任公司            有   \n",
       "000537.SZ          天津中绿电投资股份有限公司              鲁能集团有限公司            有   \n",
       "122474.SH             珠海格力房产有限公司            格力地产股份有限公司            有   \n",
       "112346.SZ             福星惠誉控股有限公司          湖北福星科技股份有限公司            有   \n",
       "119484.SZ               鲁能集团有限公司          中国绿发投资集团有限公司            有   \n",
       "600895.SH      上海张江高科技园区开发股份有限公司          上海张江(集团)有限公司            有   \n",
       "600663.SH     上海陆家嘴金融贸易区开发股份有限公司         上海陆家嘴(集团)有限公司            有   \n",
       "000736.SZ             中交地产股份有限公司           中交房地产集团有限公司            有   \n",
       "600048.SH         保利发展控股集团股份有限公司            保利南方集团有限公司            有   \n",
       "600376.SH           北京首都开发股份有限公司      北京首都开发控股(集团)有限公司            有   \n",
       "102380377.IB         厦门国贸房地产有限公司          厦门国贸地产集团有限公司            有   \n",
       "0207.HK                大悦城地产有限公司         大悦城控股集团股份有限公司            有   \n",
       "600665.SH              天地源股份有限公司  西安高新技术产业开发区房地产开发有限公司            有   \n",
       "136346.SH         广州市天建房地产开发有限公司          广州合景控股集团有限公司            有   \n",
       "600684.SH         广州珠江发展集团股份有限公司          广州珠江实业集团有限公司            有   \n",
       "\n",
       "                    控股公司代码        控股公司简称  \n",
       "证券代码                                      \n",
       "163347.SH          0813.HK          世茂集团  \n",
       "125033.SH        193398.SH         PR产3A  \n",
       "1280313.IB       600708.SH          光明地产  \n",
       "122000002.IB     115823.SH        23宁安02  \n",
       "000537.SZ        119484.SZ          贵和优A  \n",
       "122474.SH        600185.SH          格力地产  \n",
       "112346.SZ        000926.SZ          福星股份  \n",
       "119484.SZ        115360.SH        23绿发02  \n",
       "600895.SH       1382051.IB      13张江MTN1  \n",
       "600663.SH        199316.SH          陆集1优  \n",
       "000736.SZ        185562.SH        22交房01  \n",
       "600048.SH     101654070.IB  16保利南方MTN001  \n",
       "600376.SH     081664010.IB   16首开ABN001J  \n",
       "102380377.IB     115550.SH        23国地01  \n",
       "0207.HK          000031.SZ           大悦城  \n",
       "600665.SH        114443.SH        22西地02  \n",
       "136346.SH        139822.SZ         合景19次  \n",
       "600684.SH        127830.SH         18珠江债  "
      ]
     },
     "execution_count": 9,
     "metadata": {},
     "output_type": "execute_result"
    }
   ],
   "source": [
    "firm_list "
   ]
  },
  {
   "cell_type": "code",
   "execution_count": 10,
   "id": "f31bdb6f-48f9-4517-b2c4-db86517f205a",
   "metadata": {},
   "outputs": [],
   "source": [
    "firm['原公司名称'] = None"
   ]
  },
  {
   "cell_type": "code",
   "execution_count": 11,
   "id": "2da44a09-9b79-4bd5-80d5-d0750a365702",
   "metadata": {},
   "outputs": [],
   "source": [
    "list_index = firm_list.index.values"
   ]
  },
  {
   "cell_type": "code",
   "execution_count": 12,
   "id": "a071db3e-d640-4c0f-a836-e6e5eb9f4d43",
   "metadata": {},
   "outputs": [],
   "source": [
    "for i in range(firm.shape[0]):\n",
    "    if firm.iat[i,0] in list_index :\n",
    "        firm.iat[i,19] = firm.iat[i,2]\n",
    "        temp = firm_list.loc[firm.iat[i,0]]\n",
    "        firm.iloc[i,0] = temp['控股公司代码']\n",
    "        firm.iloc[i,1] = temp['控股公司简称']\n",
    "        firm.iloc[i,2] = temp['在全部公司中的超过30%控股公司']"
   ]
  },
  {
   "cell_type": "code",
   "execution_count": 13,
   "id": "9724045a-fa4f-4771-990e-b8475106125e",
   "metadata": {},
   "outputs": [],
   "source": [
    "firm.to_stata(\"C:/Users/84678/Desktop/RA/苏阳老师/firmfile_new.dta\",version=119)"
   ]
  },
  {
   "cell_type": "code",
   "execution_count": 14,
   "id": "fb2b4cea-d265-4115-85cb-2b8b1b2135d0",
   "metadata": {},
   "outputs": [],
   "source": [
    "firm.to_excel(\"C:/Users/84678/Desktop/RA/苏阳老师/firmfile_new.xlsx\")"
   ]
  },
  {
   "cell_type": "code",
   "execution_count": 7,
   "id": "639c417d-c519-4ca3-b087-73cce111cbef",
   "metadata": {},
   "outputs": [],
   "source": [
    "import pandas as pd\n",
    "import os\n",
    "\n",
    "data_list = []\n",
    "path = \"C:/Users/84678/Desktop/RA/苏阳老师/土地/国信土地信息库\"\n",
    "# os.listdir(\".\")返回目录中的文件名列表\n",
    "# 用for循环遍历文件名列表中的每个文件名，赋值给变量filename\n",
    "for filename in os.listdir(path):\n",
    "    # pd.read_excel(filename)读取Excel文件，返回一个DataFrame对象\n",
    "    # 列表名.append将DataFrame写入列表\n",
    "    data_list.append(pd.read_excel(path+'/'+filename))\n",
    "\n",
    "# concat合并Pandas数据\n",
    "data_all =pd.concat(data_list)\n",
    "data_all = data_all[~data_all['所在城市'].isin(['资料来源：国信宏观经济与房地产数据库(http://www.crei.cn)。'])]\n",
    "# 将 DataFrame 保存为 excel 文件\n",
    "data_all.to_excel(\"C:/Users/84678/Desktop/RA/苏阳老师/土地/土地信息总表.xlsx\",index=False)\n"
   ]
  },
  {
   "cell_type": "code",
   "execution_count": null,
   "id": "b26e7f66-a86e-4646-b238-01cdf4486ddf",
   "metadata": {},
   "outputs": [],
   "source": [
    "#行政区划"
   ]
  },
  {
   "cell_type": "code",
   "execution_count": 18,
   "id": "2d64160b-00dc-4448-8a34-d928ea4837dd",
   "metadata": {},
   "outputs": [],
   "source": [
    "import pandas as pd\n",
    "df = pd.read_stata('C:/Users/84678/Desktop/RA/苏阳老师/行政区划/missing(1).dta')\n",
    "df_add = pd.read_excel('C:/Users/84678/Desktop/RA/苏阳老师/行政区划/行政区划缺失值1.xlsx',sheet_name = \"Sheet1\",index_col = 0)"
   ]
  },
  {
   "cell_type": "code",
   "execution_count": 19,
   "id": "43af87ae-9e64-4529-9bc6-f1af66832e14",
   "metadata": {},
   "outputs": [],
   "source": [
    "#df_miss = df[(df['missing_rows'] == 1)]"
   ]
  },
  {
   "cell_type": "code",
   "execution_count": 20,
   "id": "171373d5-ff0f-4bf7-b5b0-6e49df8a7c8a",
   "metadata": {},
   "outputs": [],
   "source": [
    "#df_miss.to_excel(\"C:/Users/84678/Desktop/RA/苏阳老师/行政区划/行政区划缺失值.xlsx\",index=False)"
   ]
  },
  {
   "cell_type": "code",
   "execution_count": 21,
   "id": "112d0abb-a5ec-4b61-b801-65e4abea1a0e",
   "metadata": {},
   "outputs": [],
   "source": [
    "df=df.set_index('gbcode')"
   ]
  },
  {
   "cell_type": "code",
   "execution_count": 30,
   "id": "b8a65c8a-d10a-4692-9b94-3d11af4b9540",
   "metadata": {},
   "outputs": [],
   "source": [
    "df.loc[df_add.index.values] = df_add"
   ]
  },
  {
   "cell_type": "code",
   "execution_count": 40,
   "id": "feed0ab3-ec11-4288-9e81-4e281fe7ee4f",
   "metadata": {},
   "outputs": [],
   "source": [
    "df = df.drop('missing_rows',axis=1)"
   ]
  },
  {
   "cell_type": "code",
   "execution_count": 42,
   "id": "b34d93d3-1917-4e7c-b4b5-7541a4c9f9be",
   "metadata": {},
   "outputs": [],
   "source": [
    "df.to_excel(\"C:/Users/84678/Desktop/RA/苏阳老师/行政区划/行政区划.xlsx\",index=True)"
   ]
  },
  {
   "cell_type": "markdown",
   "id": "cc4d8880-e26c-48bc-8ff0-3a54b6af16c8",
   "metadata": {},
   "source": [
    "# 企查查下载数据匹配"
   ]
  },
  {
   "cell_type": "code",
   "execution_count": 45,
   "id": "9f00754b-ab98-45a5-96b8-d095ef2b95c9",
   "metadata": {},
   "outputs": [],
   "source": [
    "import zipfile\n",
    "import os\n",
    "import pandas as pd\n",
    "import shutil\n",
    "import numpy as np"
   ]
  },
  {
   "cell_type": "code",
   "execution_count": 9,
   "id": "5485dee2-406b-4528-a693-fa7bc0851cd4",
   "metadata": {},
   "outputs": [],
   "source": [
    "path = 'C:/Users/84678/Desktop/RA/苏阳老师/task/qcc/control'\n",
    "file_list = os.listdir(path)"
   ]
  },
  {
   "cell_type": "markdown",
   "id": "c3146593-9087-432c-a826-4aa71979bdec",
   "metadata": {},
   "source": [
    "## 解压缩"
   ]
  },
  {
   "cell_type": "code",
   "execution_count": 10,
   "id": "a14187c1-a163-4c6b-87f7-422220c16500",
   "metadata": {},
   "outputs": [],
   "source": [
    "# def mkdir(path):\n",
    "#     isExists = os.path.exists(path)\n",
    "#     if not isExists:\n",
    "#         os.makedirs(path)\n",
    "#         print(path + '创建成功')\n",
    "#     else:\n",
    "#         print(path + '目录已存在')"
   ]
  },
  {
   "cell_type": "code",
   "execution_count": 11,
   "id": "d3df1c0c-f53d-42ee-83ec-54f8bbf70039",
   "metadata": {},
   "outputs": [],
   "source": [
    "# def unzipFile(folder_path):\n",
    "#     wrong_log = os.path.join(folder_path, 'unzip_log.txt')\n",
    "#     for root, dirs, files in os.walk(folder_path):\n",
    "#         contents = os.listdir(root)\n",
    "#         folders = [folder for folder in contents if os.path.isdir(os.path.join(root, folder))]  # 该目录下文件夹名称列表\n",
    "#         for file in files:\n",
    "#             if file.endswith('zip'):  # file 是待解压文件\n",
    "#                 # 有重名文件说明被解压过，跳过\n",
    "#                 rarFile_name = file.split('.')[0:-1]\n",
    "#                 rarFile_name = '.'.join(rarFile_name)\n",
    "#                 if rarFile_name in folders:\n",
    "#                     continue\n",
    "#                 # 没有重名文件则进行解压\n",
    "#                 else:\n",
    "#                     # 创建解压文件夹路径\n",
    "#                     unzip_rarFile_path = os.path.join(root, rarFile_name)\n",
    "#                     mkdir(unzip_rarFile_path)\n",
    "#                     rarFile_path = os.path.join(root, file)\n",
    "#                     print(rarFile_path)\n",
    "#                     try:\n",
    "#                         with zipfile.ZipFile(rarFile_path, 'r') as zip_ref:\n",
    "#                             zip_ref.extractall(unzip_rarFile_path)\n",
    "#                     except:\n",
    "#                         with open(wrong_log, 'a') as f:\n",
    "#                             f.write(f'\\n {rarFile_path}')\n",
    "#             else:\n",
    "#                 continue"
   ]
  },
  {
   "cell_type": "code",
   "execution_count": 13,
   "id": "8f049659-2bd3-4f9d-a8df-f58b1c37de7d",
   "metadata": {
    "collapsed": true,
    "jupyter": {
     "outputs_hidden": true
    },
    "tags": []
   },
   "outputs": [
    {
     "name": "stdout",
     "output_type": "stream",
     "text": [
      "C:/Users/84678/Desktop/RA/苏阳老师/task/qcc/control\\【企查查】批量查询-实际控制人(1014_102330823) 2023-10-14 23_08_53创建成功\n",
      "C:/Users/84678/Desktop/RA/苏阳老师/task/qcc/control\\【企查查】批量查询-实际控制人(1014_102330823) 2023-10-14 23_08_53.zip\n",
      "C:/Users/84678/Desktop/RA/苏阳老师/task/qcc/control\\【企查查】批量查询-实际控制人(1014_102330826) 2023-10-14 23_09_11创建成功\n",
      "C:/Users/84678/Desktop/RA/苏阳老师/task/qcc/control\\【企查查】批量查询-实际控制人(1014_102330826) 2023-10-14 23_09_11.zip\n",
      "C:/Users/84678/Desktop/RA/苏阳老师/task/qcc/control\\【企查查】批量查询-实际控制人(1014_102330829) 2023-10-14 23_09_38创建成功\n",
      "C:/Users/84678/Desktop/RA/苏阳老师/task/qcc/control\\【企查查】批量查询-实际控制人(1014_102330829) 2023-10-14 23_09_38.zip\n",
      "C:/Users/84678/Desktop/RA/苏阳老师/task/qcc/control\\【企查查】批量查询-实际控制人(1014_102330831) 2023-10-14 23_10_06创建成功\n",
      "C:/Users/84678/Desktop/RA/苏阳老师/task/qcc/control\\【企查查】批量查询-实际控制人(1014_102330831) 2023-10-14 23_10_06.zip\n",
      "C:/Users/84678/Desktop/RA/苏阳老师/task/qcc/control\\【企查查】批量查询-实际控制人(1014_102330835) 2023-10-14 23_10_38创建成功\n",
      "C:/Users/84678/Desktop/RA/苏阳老师/task/qcc/control\\【企查查】批量查询-实际控制人(1014_102330835) 2023-10-14 23_10_38.zip\n",
      "C:/Users/84678/Desktop/RA/苏阳老师/task/qcc/control\\【企查查】批量查询-实际控制人(1014_102330838) 2023-10-14 23_11_16创建成功\n",
      "C:/Users/84678/Desktop/RA/苏阳老师/task/qcc/control\\【企查查】批量查询-实际控制人(1014_102330838) 2023-10-14 23_11_16.zip\n",
      "C:/Users/84678/Desktop/RA/苏阳老师/task/qcc/control\\【企查查】批量查询-实际控制人(1014_102330845) 2023-10-14 23_11_48创建成功\n",
      "C:/Users/84678/Desktop/RA/苏阳老师/task/qcc/control\\【企查查】批量查询-实际控制人(1014_102330845) 2023-10-14 23_11_48.zip\n",
      "C:/Users/84678/Desktop/RA/苏阳老师/task/qcc/control\\【企查查】批量查询-实际控制人(1014_102330848) 2023-10-14 23_12_13创建成功\n",
      "C:/Users/84678/Desktop/RA/苏阳老师/task/qcc/control\\【企查查】批量查询-实际控制人(1014_102330848) 2023-10-14 23_12_13.zip\n",
      "C:/Users/84678/Desktop/RA/苏阳老师/task/qcc/control\\【企查查】批量查询-实际控制人(1014_102330850) 2023-10-14 23_12_36创建成功\n",
      "C:/Users/84678/Desktop/RA/苏阳老师/task/qcc/control\\【企查查】批量查询-实际控制人(1014_102330850) 2023-10-14 23_12_36.zip\n",
      "C:/Users/84678/Desktop/RA/苏阳老师/task/qcc/control\\【企查查】批量查询-实际控制人(1014_102330856) 2023-10-14 23_12_56创建成功\n",
      "C:/Users/84678/Desktop/RA/苏阳老师/task/qcc/control\\【企查查】批量查询-实际控制人(1014_102330856) 2023-10-14 23_12_56.zip\n",
      "C:/Users/84678/Desktop/RA/苏阳老师/task/qcc/control\\【企查查】批量查询-实际控制人(1014_102330859) 2023-10-14 23_13_18创建成功\n",
      "C:/Users/84678/Desktop/RA/苏阳老师/task/qcc/control\\【企查查】批量查询-实际控制人(1014_102330859) 2023-10-14 23_13_18.zip\n",
      "C:/Users/84678/Desktop/RA/苏阳老师/task/qcc/control\\【企查查】批量查询-实际控制人(1014_102330869) 2023-10-14 23_13_40创建成功\n",
      "C:/Users/84678/Desktop/RA/苏阳老师/task/qcc/control\\【企查查】批量查询-实际控制人(1014_102330869) 2023-10-14 23_13_40.zip\n",
      "C:/Users/84678/Desktop/RA/苏阳老师/task/qcc/control\\【企查查】批量查询-实际控制人(1014_102330877) 2023-10-14 23_14_03创建成功\n",
      "C:/Users/84678/Desktop/RA/苏阳老师/task/qcc/control\\【企查查】批量查询-实际控制人(1014_102330877) 2023-10-14 23_14_03.zip\n",
      "C:/Users/84678/Desktop/RA/苏阳老师/task/qcc/control\\【企查查】批量查询-实际控制人(1014_102330882) 2023-10-14 23_14_25创建成功\n",
      "C:/Users/84678/Desktop/RA/苏阳老师/task/qcc/control\\【企查查】批量查询-实际控制人(1014_102330882) 2023-10-14 23_14_25.zip\n",
      "C:/Users/84678/Desktop/RA/苏阳老师/task/qcc/control\\【企查查】批量查询-实际控制人(1015_102331223) 2023-10-15 00_02_03创建成功\n",
      "C:/Users/84678/Desktop/RA/苏阳老师/task/qcc/control\\【企查查】批量查询-实际控制人(1015_102331223) 2023-10-15 00_02_03.zip\n",
      "C:/Users/84678/Desktop/RA/苏阳老师/task/qcc/control\\【企查查】批量查询-实际控制人(1015_102331232) 2023-10-15 00_02_46创建成功\n",
      "C:/Users/84678/Desktop/RA/苏阳老师/task/qcc/control\\【企查查】批量查询-实际控制人(1015_102331232) 2023-10-15 00_02_46.zip\n",
      "C:/Users/84678/Desktop/RA/苏阳老师/task/qcc/control\\【企查查】批量查询-实际控制人(1015_102331235) 2023-10-15 00_03_20创建成功\n",
      "C:/Users/84678/Desktop/RA/苏阳老师/task/qcc/control\\【企查查】批量查询-实际控制人(1015_102331235) 2023-10-15 00_03_20.zip\n",
      "C:/Users/84678/Desktop/RA/苏阳老师/task/qcc/control\\【企查查】批量查询-实际控制人(1015_102331237) 2023-10-15 00_03_41创建成功\n",
      "C:/Users/84678/Desktop/RA/苏阳老师/task/qcc/control\\【企查查】批量查询-实际控制人(1015_102331237) 2023-10-15 00_03_41.zip\n",
      "C:/Users/84678/Desktop/RA/苏阳老师/task/qcc/control\\【企查查】批量查询-实际控制人(1015_102331239) 2023-10-15 00_04_04创建成功\n",
      "C:/Users/84678/Desktop/RA/苏阳老师/task/qcc/control\\【企查查】批量查询-实际控制人(1015_102331239) 2023-10-15 00_04_04.zip\n",
      "C:/Users/84678/Desktop/RA/苏阳老师/task/qcc/control\\【企查查】批量查询-实际控制人(1015_102331243) 2023-10-15 00_04_26创建成功\n",
      "C:/Users/84678/Desktop/RA/苏阳老师/task/qcc/control\\【企查查】批量查询-实际控制人(1015_102331243) 2023-10-15 00_04_26.zip\n",
      "C:/Users/84678/Desktop/RA/苏阳老师/task/qcc/control\\【企查查】批量查询-实际控制人(1015_102331245) 2023-10-15 00_04_47创建成功\n",
      "C:/Users/84678/Desktop/RA/苏阳老师/task/qcc/control\\【企查查】批量查询-实际控制人(1015_102331245) 2023-10-15 00_04_47.zip\n",
      "C:/Users/84678/Desktop/RA/苏阳老师/task/qcc/control\\【企查查】批量查询-实际控制人(1015_102331264) 2023-10-15 00_06_20创建成功\n",
      "C:/Users/84678/Desktop/RA/苏阳老师/task/qcc/control\\【企查查】批量查询-实际控制人(1015_102331264) 2023-10-15 00_06_20.zip\n",
      "C:/Users/84678/Desktop/RA/苏阳老师/task/qcc/control\\【企查查】批量查询-实际控制人(1015_102331273) 2023-10-15 00_06_40创建成功\n",
      "C:/Users/84678/Desktop/RA/苏阳老师/task/qcc/control\\【企查查】批量查询-实际控制人(1015_102331273) 2023-10-15 00_06_40.zip\n",
      "C:/Users/84678/Desktop/RA/苏阳老师/task/qcc/control\\【企查查】批量查询-实际控制人(1015_102331278) 2023-10-15 00_07_09创建成功\n",
      "C:/Users/84678/Desktop/RA/苏阳老师/task/qcc/control\\【企查查】批量查询-实际控制人(1015_102331278) 2023-10-15 00_07_09.zip\n",
      "C:/Users/84678/Desktop/RA/苏阳老师/task/qcc/control\\【企查查】批量查询-实际控制人(1015_102331280) 2023-10-15 00_07_31创建成功\n",
      "C:/Users/84678/Desktop/RA/苏阳老师/task/qcc/control\\【企查查】批量查询-实际控制人(1015_102331280) 2023-10-15 00_07_31.zip\n",
      "C:/Users/84678/Desktop/RA/苏阳老师/task/qcc/control\\【企查查】批量查询-实际控制人(1015_102331304) 2023-10-15 00_09_37创建成功\n",
      "C:/Users/84678/Desktop/RA/苏阳老师/task/qcc/control\\【企查查】批量查询-实际控制人(1015_102331304) 2023-10-15 00_09_37.zip\n",
      "C:/Users/84678/Desktop/RA/苏阳老师/task/qcc/control\\【企查查】批量查询-实际控制人(1015_102331306) 2023-10-15 00_10_03创建成功\n",
      "C:/Users/84678/Desktop/RA/苏阳老师/task/qcc/control\\【企查查】批量查询-实际控制人(1015_102331306) 2023-10-15 00_10_03.zip\n",
      "C:/Users/84678/Desktop/RA/苏阳老师/task/qcc/control\\【企查查】批量查询-实际控制人(1015_102331312) 2023-10-15 00_10_28创建成功\n",
      "C:/Users/84678/Desktop/RA/苏阳老师/task/qcc/control\\【企查查】批量查询-实际控制人(1015_102331312) 2023-10-15 00_10_28.zip\n",
      "C:/Users/84678/Desktop/RA/苏阳老师/task/qcc/control\\【企查查】批量查询-实际控制人(1015_102331318) 2023-10-15 00_10_51创建成功\n",
      "C:/Users/84678/Desktop/RA/苏阳老师/task/qcc/control\\【企查查】批量查询-实际控制人(1015_102331318) 2023-10-15 00_10_51.zip\n",
      "C:/Users/84678/Desktop/RA/苏阳老师/task/qcc/control\\【企查查】批量查询-实际控制人(1015_102331320) 2023-10-15 00_11_09创建成功\n",
      "C:/Users/84678/Desktop/RA/苏阳老师/task/qcc/control\\【企查查】批量查询-实际控制人(1015_102331320) 2023-10-15 00_11_09.zip\n"
     ]
    }
   ],
   "source": [
    "# unzipFile(path)"
   ]
  },
  {
   "cell_type": "markdown",
   "id": "650e0555-63c4-48ed-a9a0-d3fab9214e69",
   "metadata": {},
   "source": [
    "## 导入数据"
   ]
  },
  {
   "cell_type": "code",
   "execution_count": 101,
   "id": "394c7642-7d9c-4327-8969-ee172fc350cd",
   "metadata": {},
   "outputs": [],
   "source": [
    "data1 = pd.read_excel('C:/Users/84678/Desktop/RA/苏阳老师/task/qcc/control/1.xlsx',skiprows = 1)"
   ]
  },
  {
   "cell_type": "code",
   "execution_count": 102,
   "id": "b4f7edca-652e-4b67-996e-062e1c5cb785",
   "metadata": {},
   "outputs": [],
   "source": [
    "data1.replace(' ' , np.nan , inplace=True)\n",
    "data1.dropna(how = 'all' , axis = 0 , inplace = True)\n",
    "data1.reset_index(inplace = True)\n",
    "data1 = data1.drop(columns = ['index'])"
   ]
  },
  {
   "cell_type": "code",
   "execution_count": 103,
   "id": "2f103486-e99a-4c98-9efb-c9cdc42db14b",
   "metadata": {
    "tags": []
   },
   "outputs": [],
   "source": [
    "data1.columns = ['公司', '控股股东', '控股股东直接持股比例', '控股股东最终受益股份', '实际控制人/疑似实际控制人', '实际控制人直接持股比例','实际控制人最终受益股份', '实际控制人表决权', '控制链']"
   ]
  },
  {
   "cell_type": "code",
   "execution_count": 121,
   "id": "118f1bb4-8cf4-49e8-9c3b-122f6c48ae4e",
   "metadata": {},
   "outputs": [],
   "source": [
    "data1 = data1[~ (data1['公司'] == '实际控制人') & ~ (data1['公司'] == '序号')]\n",
    "# data1[~ (data1['公司'] == '实际控制人') ]"
   ]
  },
  {
   "cell_type": "code",
   "execution_count": 123,
   "id": "26c03904-5d9d-4bc8-be98-0eea98c247c3",
   "metadata": {},
   "outputs": [],
   "source": [
    "data1.reset_index(inplace = True)\n",
    "data1 = data1.drop(columns = ['index'])"
   ]
  },
  {
   "cell_type": "code",
   "execution_count": 88,
   "id": "52aae70c-61e5-4fbb-b607-65aec0fd7af7",
   "metadata": {},
   "outputs": [],
   "source": [
    "# for i in range(1,data1.shape[0]):\n",
    "#     if i%2 != 0:\n",
    "#         data1.iloc[i,0] = data1.iloc[i-1,0]\n",
    "#         data1.iloc[i-1,0] = 'NaN'\n",
    "#     else:\n",
    "#         continue"
   ]
  },
  {
   "cell_type": "code",
   "execution_count": 124,
   "id": "3f6197aa-3b65-412d-ad2a-3330a97da14f",
   "metadata": {},
   "outputs": [
    {
     "data": {
      "text/html": [
       "<div>\n",
       "<style scoped>\n",
       "    .dataframe tbody tr th:only-of-type {\n",
       "        vertical-align: middle;\n",
       "    }\n",
       "\n",
       "    .dataframe tbody tr th {\n",
       "        vertical-align: top;\n",
       "    }\n",
       "\n",
       "    .dataframe thead th {\n",
       "        text-align: right;\n",
       "    }\n",
       "</style>\n",
       "<table border=\"1\" class=\"dataframe\">\n",
       "  <thead>\n",
       "    <tr style=\"text-align: right;\">\n",
       "      <th></th>\n",
       "      <th>公司</th>\n",
       "      <th>控股股东</th>\n",
       "      <th>控股股东直接持股比例</th>\n",
       "      <th>控股股东最终受益股份</th>\n",
       "      <th>实际控制人/疑似实际控制人</th>\n",
       "      <th>实际控制人直接持股比例</th>\n",
       "      <th>实际控制人最终受益股份</th>\n",
       "      <th>实际控制人表决权</th>\n",
       "      <th>控制链</th>\n",
       "    </tr>\n",
       "  </thead>\n",
       "  <tbody>\n",
       "    <tr>\n",
       "      <th>0</th>\n",
       "      <td>营口奥盛实业有限公司</td>\n",
       "      <td>NaN</td>\n",
       "      <td>NaN</td>\n",
       "      <td>NaN</td>\n",
       "      <td>NaN</td>\n",
       "      <td>NaN</td>\n",
       "      <td>NaN</td>\n",
       "      <td>NaN</td>\n",
       "      <td>NaN</td>\n",
       "    </tr>\n",
       "    <tr>\n",
       "      <th>1</th>\n",
       "      <td>1</td>\n",
       "      <td>牟金芳</td>\n",
       "      <td>90.00%</td>\n",
       "      <td>90.00%</td>\n",
       "      <td>牟金芳</td>\n",
       "      <td>90.00%</td>\n",
       "      <td>90%</td>\n",
       "      <td>90%</td>\n",
       "      <td>控制路径1 (占比约90%)\\t牟金芳———&gt;(90%)营口奥盛实业有限公司; \\t\\t</td>\n",
       "    </tr>\n",
       "    <tr>\n",
       "      <th>2</th>\n",
       "      <td>石家庄万佳房地产开发有限公司</td>\n",
       "      <td>NaN</td>\n",
       "      <td>NaN</td>\n",
       "      <td>NaN</td>\n",
       "      <td>NaN</td>\n",
       "      <td>NaN</td>\n",
       "      <td>NaN</td>\n",
       "      <td>NaN</td>\n",
       "      <td>NaN</td>\n",
       "    </tr>\n",
       "    <tr>\n",
       "      <th>3</th>\n",
       "      <td>1</td>\n",
       "      <td>孙静菲</td>\n",
       "      <td>80.00%</td>\n",
       "      <td>80.00%</td>\n",
       "      <td>孙静菲</td>\n",
       "      <td>80.00%</td>\n",
       "      <td>80%</td>\n",
       "      <td>80%</td>\n",
       "      <td>控制路径1 (占比约80%)\\t孙静菲———&gt;(80%)石家庄万佳房地产开发有限公司; \\t\\t</td>\n",
       "    </tr>\n",
       "    <tr>\n",
       "      <th>4</th>\n",
       "      <td>惠阳行诚科技园开发建设有限公司</td>\n",
       "      <td>NaN</td>\n",
       "      <td>NaN</td>\n",
       "      <td>NaN</td>\n",
       "      <td>NaN</td>\n",
       "      <td>NaN</td>\n",
       "      <td>NaN</td>\n",
       "      <td>NaN</td>\n",
       "      <td>NaN</td>\n",
       "    </tr>\n",
       "    <tr>\n",
       "      <th>...</th>\n",
       "      <td>...</td>\n",
       "      <td>...</td>\n",
       "      <td>...</td>\n",
       "      <td>...</td>\n",
       "      <td>...</td>\n",
       "      <td>...</td>\n",
       "      <td>...</td>\n",
       "      <td>...</td>\n",
       "      <td>...</td>\n",
       "    </tr>\n",
       "    <tr>\n",
       "      <th>9140</th>\n",
       "      <td>1</td>\n",
       "      <td>无实际控制人</td>\n",
       "      <td>上市企业公示（官方公示）</td>\n",
       "      <td>NaN</td>\n",
       "      <td>NaN</td>\n",
       "      <td>NaN</td>\n",
       "      <td>NaN</td>\n",
       "      <td>NaN</td>\n",
       "      <td>NaN</td>\n",
       "    </tr>\n",
       "    <tr>\n",
       "      <th>9141</th>\n",
       "      <td>乌海市豪泰房地产开发有限责任公司</td>\n",
       "      <td>NaN</td>\n",
       "      <td>NaN</td>\n",
       "      <td>NaN</td>\n",
       "      <td>NaN</td>\n",
       "      <td>NaN</td>\n",
       "      <td>NaN</td>\n",
       "      <td>NaN</td>\n",
       "      <td>NaN</td>\n",
       "    </tr>\n",
       "    <tr>\n",
       "      <th>9142</th>\n",
       "      <td>1</td>\n",
       "      <td>马占飞</td>\n",
       "      <td>100%</td>\n",
       "      <td>100%</td>\n",
       "      <td>马占飞</td>\n",
       "      <td>100%</td>\n",
       "      <td>100%</td>\n",
       "      <td>100%</td>\n",
       "      <td>控制路径1 (占比约100%)\\t马占飞———&gt;(100%)乌海市豪泰房地产开发有限责任公司...</td>\n",
       "    </tr>\n",
       "    <tr>\n",
       "      <th>9143</th>\n",
       "      <td>菏泽市康乾房地产开发有限公司</td>\n",
       "      <td>NaN</td>\n",
       "      <td>NaN</td>\n",
       "      <td>NaN</td>\n",
       "      <td>NaN</td>\n",
       "      <td>NaN</td>\n",
       "      <td>NaN</td>\n",
       "      <td>NaN</td>\n",
       "      <td>NaN</td>\n",
       "    </tr>\n",
       "    <tr>\n",
       "      <th>9144</th>\n",
       "      <td>1</td>\n",
       "      <td>贾其武</td>\n",
       "      <td>55.00%</td>\n",
       "      <td>55.00%</td>\n",
       "      <td>贾其武</td>\n",
       "      <td>55.00%</td>\n",
       "      <td>55%</td>\n",
       "      <td>55%</td>\n",
       "      <td>控制路径1 (占比约55%)\\t贾其武———&gt;(55%)菏泽市康乾房地产开发有限公司; \\t\\t</td>\n",
       "    </tr>\n",
       "  </tbody>\n",
       "</table>\n",
       "<p>9145 rows × 9 columns</p>\n",
       "</div>"
      ],
      "text/plain": [
       "                    公司    控股股东    控股股东直接持股比例 控股股东最终受益股份 实际控制人/疑似实际控制人  \\\n",
       "0           营口奥盛实业有限公司     NaN           NaN        NaN           NaN   \n",
       "1                    1     牟金芳        90.00%     90.00%           牟金芳   \n",
       "2       石家庄万佳房地产开发有限公司     NaN           NaN        NaN           NaN   \n",
       "3                    1     孙静菲        80.00%     80.00%           孙静菲   \n",
       "4      惠阳行诚科技园开发建设有限公司     NaN           NaN        NaN           NaN   \n",
       "...                ...     ...           ...        ...           ...   \n",
       "9140                 1  无实际控制人  上市企业公示（官方公示）        NaN           NaN   \n",
       "9141  乌海市豪泰房地产开发有限责任公司     NaN           NaN        NaN           NaN   \n",
       "9142                 1     马占飞          100%       100%           马占飞   \n",
       "9143    菏泽市康乾房地产开发有限公司     NaN           NaN        NaN           NaN   \n",
       "9144                 1     贾其武        55.00%     55.00%           贾其武   \n",
       "\n",
       "     实际控制人直接持股比例 实际控制人最终受益股份 实际控制人表决权  \\\n",
       "0            NaN         NaN      NaN   \n",
       "1         90.00%         90%      90%   \n",
       "2            NaN         NaN      NaN   \n",
       "3         80.00%         80%      80%   \n",
       "4            NaN         NaN      NaN   \n",
       "...          ...         ...      ...   \n",
       "9140         NaN         NaN      NaN   \n",
       "9141         NaN         NaN      NaN   \n",
       "9142        100%        100%     100%   \n",
       "9143         NaN         NaN      NaN   \n",
       "9144      55.00%         55%      55%   \n",
       "\n",
       "                                                    控制链  \n",
       "0                                                   NaN  \n",
       "1          控制路径1 (占比约90%)\\t牟金芳———>(90%)营口奥盛实业有限公司; \\t\\t  \n",
       "2                                                   NaN  \n",
       "3      控制路径1 (占比约80%)\\t孙静菲———>(80%)石家庄万佳房地产开发有限公司; \\t\\t  \n",
       "4                                                   NaN  \n",
       "...                                                 ...  \n",
       "9140                                                NaN  \n",
       "9141                                                NaN  \n",
       "9142  控制路径1 (占比约100%)\\t马占飞———>(100%)乌海市豪泰房地产开发有限责任公司...  \n",
       "9143                                                NaN  \n",
       "9144   控制路径1 (占比约55%)\\t贾其武———>(55%)菏泽市康乾房地产开发有限公司; \\t\\t  \n",
       "\n",
       "[9145 rows x 9 columns]"
      ]
     },
     "execution_count": 124,
     "metadata": {},
     "output_type": "execute_result"
    }
   ],
   "source": [
    "data1"
   ]
  },
  {
   "cell_type": "code",
   "execution_count": 129,
   "id": "8dda4a28-326d-4223-aa5f-27800a75447c",
   "metadata": {},
   "outputs": [],
   "source": [
    "com_index_list = data1[data1['公司'].str.contains('公司')].index.values.tolist()"
   ]
  },
  {
   "cell_type": "code",
   "execution_count": 142,
   "id": "7c7a7401-6975-4ab1-92e7-df65bd37b38c",
   "metadata": {},
   "outputs": [],
   "source": [
    "com_temp = pd.DataFrame()\n",
    "com = pd.DataFrame()\n",
    "for i in range(1,len(com_index_list)):\n",
    "    start = com_index_list[i-1]\n",
    "    end = com_index_list[i]\n",
    "    com_temp = data1.iloc[start:end]\n",
    "    \n",
    "    com['公司'] = com_temp['公司'][com_temp['公司'].str.contains('公司')].values\n",
    "    \n",
    "    try:\n",
    "        com['控制路径'] = com_temp['控制链'][com_temp['控制链'].str.contains('控制路径',na = False)].values\n",
    "    except:\n",
    "        com['控制路径'] = '未找到控制路径'\n",
    "    \n",
    "    com "
   ]
  },
  {
   "cell_type": "code",
   "execution_count": 164,
   "id": "226b3d30-b5bd-4dee-9938-26353fcfc258",
   "metadata": {
    "tags": []
   },
   "outputs": [],
   "source": []
  },
  {
   "cell_type": "code",
   "execution_count": 163,
   "id": "9856aae2-889e-49b6-894c-94cd8b9e953a",
   "metadata": {},
   "outputs": [
    {
     "data": {
      "text/plain": [
       "9142    控制路径1 (占比约100%)\\t马占飞———>(100%)乌海市豪泰房地产开发有限责任公司...\n",
       "Name: 控制链, dtype: object"
      ]
     },
     "execution_count": 163,
     "metadata": {},
     "output_type": "execute_result"
    }
   ],
   "source": [
    "com_temp['控制链'][com_temp['控制链'].str.contains('控制路径',na = False)]"
   ]
  },
  {
   "cell_type": "code",
   "execution_count": 165,
   "id": "f368a5f9-a0ae-4df1-9f24-4e1bb3b6b240",
   "metadata": {},
   "outputs": [
    {
     "data": {
      "text/html": [
       "<div>\n",
       "<style scoped>\n",
       "    .dataframe tbody tr th:only-of-type {\n",
       "        vertical-align: middle;\n",
       "    }\n",
       "\n",
       "    .dataframe tbody tr th {\n",
       "        vertical-align: top;\n",
       "    }\n",
       "\n",
       "    .dataframe thead th {\n",
       "        text-align: right;\n",
       "    }\n",
       "</style>\n",
       "<table border=\"1\" class=\"dataframe\">\n",
       "  <thead>\n",
       "    <tr style=\"text-align: right;\">\n",
       "      <th></th>\n",
       "      <th>公司</th>\n",
       "      <th>控制路径</th>\n",
       "    </tr>\n",
       "  </thead>\n",
       "  <tbody>\n",
       "    <tr>\n",
       "      <th>9141</th>\n",
       "      <td>乌海市豪泰房地产开发有限责任公司</td>\n",
       "      <td>控制路径1 (占比约100%)\\t马占飞———&gt;(100%)乌海市豪泰房地产开发有限责任公司...</td>\n",
       "    </tr>\n",
       "  </tbody>\n",
       "</table>\n",
       "</div>"
      ],
      "text/plain": [
       "                    公司                                               控制路径\n",
       "9141  乌海市豪泰房地产开发有限责任公司  控制路径1 (占比约100%)\\t马占飞———>(100%)乌海市豪泰房地产开发有限责任公司..."
      ]
     },
     "execution_count": 165,
     "metadata": {},
     "output_type": "execute_result"
    }
   ],
   "source": [
    "com"
   ]
  },
  {
   "cell_type": "code",
   "execution_count": null,
   "id": "c1939563-2131-479a-84e8-1d0a655fa4ba",
   "metadata": {},
   "outputs": [],
   "source": []
  }
 ],
 "metadata": {
  "kernelspec": {
   "display_name": "Python 3 (ipykernel)",
   "language": "python",
   "name": "python3"
  },
  "language_info": {
   "codemirror_mode": {
    "name": "ipython",
    "version": 3
   },
   "file_extension": ".py",
   "mimetype": "text/x-python",
   "name": "python",
   "nbconvert_exporter": "python",
   "pygments_lexer": "ipython3",
   "version": "3.9.12"
  }
 },
 "nbformat": 4,
 "nbformat_minor": 5
}
