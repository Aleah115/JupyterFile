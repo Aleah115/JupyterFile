{
 "cells": [
  {
   "cell_type": "code",
   "execution_count": 1,
   "id": "14ef0b1e",
   "metadata": {},
   "outputs": [],
   "source": [
    "import pandas as pd\n",
    "import numpy as np\n",
    "import os"
   ]
  },
  {
   "cell_type": "code",
   "execution_count": 2,
   "id": "0f347303",
   "metadata": {},
   "outputs": [],
   "source": [
    "#导入数据\n",
    "path = 'data_new.xlsx'\n",
    "df_b_c = pd.read_excel(path, sheet_name=\"基础层竞价\")\n",
    "df_b_m = pd.read_excel(path, sheet_name=\"基础层做市\")\n",
    "df_i_c = pd.read_excel(path, sheet_name=\"创新层竞价\")\n",
    "df_i_m = pd.read_excel(path, sheet_name=\"创新层做市\")"
   ]
  },
  {
   "cell_type": "code",
   "execution_count": 3,
   "id": "2b0837b9",
   "metadata": {},
   "outputs": [],
   "source": [
    "#删去总资产和流通三板股有空值的数据\n",
    "df_b_c.dropna(how = 'any', inplace = True)\n",
    "df_b_m.dropna(how = 'any', inplace = True)\n",
    "df_i_c.dropna(how = 'any', inplace = True)\n",
    "df_i_m.dropna(how = 'any', inplace = True)"
   ]
  },
  {
   "cell_type": "code",
   "execution_count": 4,
   "id": "0c3b9697",
   "metadata": {},
   "outputs": [],
   "source": [
    "df_b_c.reset_index(inplace=True)\n",
    "df_b_m.reset_index(inplace=True)\n",
    "df_i_c.reset_index(inplace=True)\n",
    "df_i_m.reset_index(inplace=True)"
   ]
  },
  {
   "cell_type": "code",
   "execution_count": 5,
   "id": "b4795a3e-1ecc-421c-9f3a-9172be6bb1cf",
   "metadata": {},
   "outputs": [],
   "source": [
    "# 记录每个idx所对应的公司代码\n",
    "b_c_id = df_b_c['代码'] #4686个代码\n",
    "b_m_id = df_b_m['代码'] #170个代码"
   ]
  },
  {
   "cell_type": "code",
   "execution_count": 6,
   "id": "7439ecc1-0670-4b08-857a-9314d924829e",
   "metadata": {},
   "outputs": [],
   "source": [
    "# 计算b组所有的最值\n",
    "b_max_total, b_min_total = max(df_b_c['总资产'].max(), df_b_m['总资产'].max()), min(df_b_c['总资产'].min(), df_b_m['总资产'].min())\n",
    "b_max_circul, b_min_circul = max(df_b_c['流通三板股'].max(), df_b_m['流通三板股'].max()), min(df_b_c['流通三板股'].min(), df_b_m['流通三板股'].min())"
   ]
  },
  {
   "cell_type": "code",
   "execution_count": 7,
   "id": "856c69e0-66b3-4c47-931b-3ea1df232431",
   "metadata": {},
   "outputs": [],
   "source": [
    "# 归一化\n",
    "b_c_norm = pd.concat([(df_b_c['总资产']-b_min_total) / (b_max_total - b_min_total), (df_b_c['流通三板股']-b_min_circul) / (b_max_circul - b_min_circul)], axis = 1)\n",
    "b_m_norm = pd.concat([(df_b_m['总资产']-b_min_total) / (b_max_total - b_min_total), (df_b_m['流通三板股']-b_min_circul) / (b_max_circul - b_min_circul)], axis = 1)"
   ]
  },
  {
   "cell_type": "code",
   "execution_count": 8,
   "id": "18019810-e096-44ae-b502-625ca1bd003c",
   "metadata": {},
   "outputs": [],
   "source": [
    "# 计算相似度\n",
    "# ps. 没必要把所有的数据都堆在一张原始表里，大可新建一个表，不然太臃肿了\n",
    "similarity_b = pd.DataFrame()\n",
    "for i in range(b_m_norm.shape[0]):\n",
    "    temp = b_m_norm.iloc[i,:] #暂时把m组当前的对象数据提出来，这个临时数据为长度为2的1维数据\n",
    "    similarity_b = pd.concat([similarity_b, (b_c_norm - temp).abs().sum(axis=1)], axis=1)\n",
    "\n",
    "# 整理标签\n",
    "similarity_b.columns = range(170)"
   ]
  },
  {
   "cell_type": "code",
   "execution_count": 9,
   "id": "4ed659da-9265-4f6c-a38c-3f94b8a8c5c8",
   "metadata": {},
   "outputs": [],
   "source": [
    "def give_res(sim_df):\n",
    "    \n",
    "    # 结果列表，每个位置为m表每个公司对应的c表中公司的idx，可以从b_c_id中查询\n",
    "    res_df = [-1 for _ in range(sim_df.shape[1])] \n",
    "\n",
    "    while not sim_df.empty:\n",
    "\n",
    "        #得到全局最小值的位置\n",
    "        temp_min_num = sim_df.min()\n",
    "        temp_min_id = sim_df.idxmin()\n",
    "        minium = temp_min_num.min()\n",
    "        min_idx = (temp_min_id[temp_min_num.idxmin()], temp_min_num.idxmin())\n",
    "\n",
    "        # 向结果列表中填入对应位置的匹配对象\n",
    "        res_df[min_idx[1]] = min_idx[0]\n",
    "\n",
    "        #将相似度表中已使用过的行和列删除\n",
    "        sim_df = sim_df.drop(labels=min_idx[0], axis=0) # 删除行\n",
    "        sim_df = sim_df.drop(labels=min_idx[1], axis=1) # 删除列\n",
    "        \n",
    "    return res_df"
   ]
  },
  {
   "cell_type": "code",
   "execution_count": 10,
   "id": "a43ac928-0607-4b69-8e89-6270eb446a69",
   "metadata": {},
   "outputs": [],
   "source": [
    "res_b = give_res(similarity_b)\n",
    "#结果查询： b_c_id[res_b[想查询的公司的位置编号]]"
   ]
  },
  {
   "cell_type": "markdown",
   "id": "2bb1e554-e870-453d-a6c3-977796b676cd",
   "metadata": {},
   "source": [
    "我就敲了一下b组的代码，敲完瞬间变得不可爱了\n",
    "\n",
    "相信聪明的你可以自己敲出来另外一组的 (๑•̀ㅂ•́)و✧加油"
   ]
  }
 ],
 "metadata": {
  "kernelspec": {
   "display_name": "Python 3 (ipykernel)",
   "language": "python",
   "name": "python3"
  },
  "language_info": {
   "codemirror_mode": {
    "name": "ipython",
    "version": 3
   },
   "file_extension": ".py",
   "mimetype": "text/x-python",
   "name": "python",
   "nbconvert_exporter": "python",
   "pygments_lexer": "ipython3",
   "version": "3.9.12"
  }
 },
 "nbformat": 4,
 "nbformat_minor": 5
}
